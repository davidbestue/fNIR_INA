{
 "cells": [
  {
   "cell_type": "code",
   "execution_count": 1,
   "metadata": {},
   "outputs": [],
   "source": [
    "from scipy.stats import ttest_ind\n",
    "import numpy as np\n",
    "import matplotlib.pyplot as plt\n",
    "import os\n",
    "import pickle\n",
    "import pandas as pd\n",
    "import itertools\n",
    "import seaborn as sns\n",
    "import statsmodels.formula.api as smf\n",
    "from statsmodels.formula.api import ols"
   ]
  },
  {
   "cell_type": "code",
   "execution_count": 2,
   "metadata": {},
   "outputs": [],
   "source": [
    "#roots \n",
    "root_data =  'C:\\\\Users\\\\David\\\\Google Drive\\\\Alicante'\n",
    "root_analysis = 'C:\\\\Users\\\\David\\\\Dropbox\\\\ALICANTE\\\\plots_fnir'\n",
    "\n",
    "os.chdir( root_data)\n",
    "f=open(\"data_fnir.pickle\",\"rb\")\n",
    "data=np.array(pickle.load(f, encoding='latin1'))"
   ]
  },
  {
   "cell_type": "code",
   "execution_count": 3,
   "metadata": {},
   "outputs": [],
   "source": [
    "strings=['DIR_CARTAS_C','DIR_CARTAS_NC', 'DIR_CUBILETES_C', 'DIR_CUBILETES_NC', 'DIR_MONEDAS_C', 'DIR_MONEDAS_NC', 'ORD_CARTAS_C', 'ORD_CARTAS_NC', 'ORD_CUBILETES_C', 'ORD_CUBILETES_NC', 'ORD_MONEDAS_C', 'ORD_MONEDAS_NC']\n",
    "conditions=['d_c_c','d_c_n', 'd_b_c', 'd_b_n', 'd_m_c', 'd_m_n', 'o_c_c', 'o_c_n', 'o_b_c', 'o_b_n', 'o_m_c', 'o_m_n']\n",
    "c_o_d=['directo', 'directo', 'directo', 'directo', 'directo', 'directo', 'video', 'video', 'video', 'video', 'video', 'video']\n",
    "c_material=['cartas', 'cartas', 'cubiletes', 'cubiletes', 'monedas', 'monedas', 'cartas', 'cartas', 'cubiletes', 'cubiletes', 'monedas', 'monedas']\n",
    "c_ncondi=['cond', 'no-cond', 'cond', 'no-cond', 'cond', 'no-cond', 'cond', 'no-cond', 'cond', 'no-cond', 'cond', 'no-cond']\n",
    "\n",
    "subj_labels = strings_in=[[1,2,5,7,10,11,18,21,26,30,31,32,33,34,39,44,45,51], [3,4,6,8,9,12,13,16,17,22,25,40,41,42,43,46,47,52], [1,2,5,7,11,18,21,26,30,31,32,33,34,39,44,45,51], [3,4,6,8,9,12,13,16,17,22,25,40,41,42,43,46,47,52], [3,4,6,8,9,12,13,16,17,22,25,40,41,42,43,46,47,52], [1,2,5,7,10,11,18,21,26,30,31,32,33,34,39,44,45,51], [14,19,23,28,29,35,38,49,53], [15,20,24,27,36,37,48,50], [15,20,24,27,36,37,48,50], [14,19,23,28,29,35,38,49,53], [15,20,24,27,36,37,48,50], [14,19,23,28,29,35,38,49,53]]\n",
    "#\n",
    "label_channel =[ [str(i) + '_s_t', str(i) + '_s_740', str(i) + '_s_860', str(i) + '_l_t', str(i) + '_l_740', str(i) + '_l_860'] for i in range(0,16)]\n",
    "label_channel = list(itertools.chain.from_iterable(label_channel)) \n",
    "colum_matrix = ['time', 'marks', 'baseline'] + label_channel"
   ]
  },
  {
   "cell_type": "code",
   "execution_count": 4,
   "metadata": {},
   "outputs": [],
   "source": [
    "frames=[]\n",
    "for c_idx, cond in enumerate(conditions):\n",
    "    subj_list = subj_labels[c_idx]\n",
    "    for idx, subject in enumerate(subj_list):\n",
    "        ### fataframe of this subject in this condition\n",
    "        df_s = pd.DataFrame( data[c_idx][idx] )\n",
    "        df_s.columns = colum_matrix\n",
    "        ######\n",
    "        ######\n",
    "        ######\n",
    "        ######        \n",
    "        #### substract_baseline in each subject and condition\n",
    "        #### (if you do not want this you have to comment)\n",
    "        # baseline of each channel (when ==1)\n",
    "        bl_column_mean = df_s.loc[df_s['baseline'] == 1].iloc[-150:].mean(axis=0)\n",
    "        bl_column_std = df_s.loc[df_s['baseline'] == 1].iloc[-150:].std(axis=0)\n",
    "        ## df of just recording ==2\n",
    "        df_2 = df_s.loc[df_s['baseline'] == 2]\n",
    "        #relative increase over baseline\n",
    "        #_df_s = (df_2[label_channel] - bl_column_mean[label_channel])/ bl_column_std \n",
    "        df_s = df_2[label_channel] - bl_column_mean[label_channel]\n",
    "        # this columns are the same\n",
    "        df_s['time'] = df_2['time']\n",
    "        df_s['marks'] = df_2['marks']   \n",
    "        df_s['baseline'] = df_2['baseline']\n",
    "        ######\n",
    "        ######\n",
    "        ######\n",
    "        ######\n",
    "        # add the subject and the condition (you need this inependently of the baseline substraction)\n",
    "        df_s['cond'] = cond\n",
    "        df_s['vision'] = c_o_d[c_idx]\n",
    "        df_s['material'] = c_material[c_idx]\n",
    "        df_s['naturalidad'] = c_ncondi[c_idx]\n",
    "        df_s['subj'] = subject\n",
    "        frames.append(df_s)\n",
    "    \n",
    "\n",
    "df_bl = pd.concat(frames, ignore_index=True)\n"
   ]
  },
  {
   "cell_type": "code",
   "execution_count": 5,
   "metadata": {},
   "outputs": [],
   "source": [
    "##### df of 5 seconds after they click of surprise!\n",
    "surprise_idx = df_bl.loc[df_bl['marks']==17].index\n",
    "time_adquisition=10 # 10 frames for second\n",
    "\n",
    "\n",
    "###plt.plot(df_bl[label_channel_t[8]].iloc[idx-150: idx+25])\n",
    "t_b = 30\n",
    "t_a = 30\n",
    "\n",
    "df_5s=[]\n",
    "for idx in surprise_idx:\n",
    "    #df_before_mean =  df_bl.iloc[idx- t_base : idx ][label_channel].mean(axis=0)\n",
    "    #df_before_std =  df_bl.iloc[idx- t_base : idx ][label_channel].std(axis=0)\n",
    "    #df_after =  df_bl.iloc[idx-t_res : idx][label_channel] - df_before_mean\n",
    "    df_after =  df_bl.iloc[idx-t_b : idx + t_a][label_channel] \n",
    "    df_after['cond'] = df_bl.iloc[idx-t_b : idx + t_a]['cond']\n",
    "    df_after['vision'] = df_bl.iloc[idx-t_b : idx + t_a]['vision']\n",
    "    df_after['material'] = df_bl.iloc[idx-t_b : idx+ t_a]['material']\n",
    "    df_after['baseline'] = df_bl.iloc[idx-t_b : idx+ t_a]['baseline']\n",
    "    df_after['naturalidad'] = df_bl.iloc[idx-t_b : idx+ t_a]['naturalidad']\n",
    "    df_after['subj'] = df_bl.iloc[idx-t_b : idx+ t_a]['subj']\n",
    "    df_5s.append( df_after ) ## df_bl.iloc[idx-50 : idx + 50]\n",
    "\n",
    "        \n",
    "##### 5 seconds after they click, normalized by baseline!\n",
    "df_5s = pd.concat(df_5s, ignore_index=True)"
   ]
  },
  {
   "cell_type": "code",
   "execution_count": 6,
   "metadata": {},
   "outputs": [],
   "source": [
    "label_channel_t =[ str(i) + '_s_740' for i in range(0,16)] \n",
    "\n",
    "#### Naturalidad\n",
    "df_5s_nat = pd.melt(df_5s, id_vars='naturalidad', value_vars =label_channel_t )\n",
    "#sns.factorplot(x='naturalidad', y='value', data=df_5s_nat, kind='bar' )\n",
    "#plt.title('Naturalidad')\n",
    "#plt.show(block=False)\n",
    "    \n",
    "#### Material\n",
    "df_5s_mat = pd.melt(df_5s, id_vars='material', value_vars =label_channel_t )\n",
    "#sns.factorplot(x='material', y='value', data=df_5s_mat, kind='bar' )\n",
    "#plt.title('Material')\n",
    "#plt.show(block=False)\n",
    "\n",
    "#### visionado\n",
    "df_5s_vis = pd.melt(df_5s, id_vars='vision', value_vars =label_channel_t )\n",
    "#sns.factorplot(x='vision', y='value', data=df_5s_vis, kind='bar' )\n",
    "#plt.title('Vision')\n",
    "#plt.show(block=False)\n",
    "\n",
    "df_5s_subj = pd.melt(df_5s, id_vars='subj', value_vars =label_channel_t )\n"
   ]
  },
  {
   "cell_type": "code",
   "execution_count": 7,
   "metadata": {
    "scrolled": false
   },
   "outputs": [
    {
     "name": "stderr",
     "output_type": "stream",
     "text": [
      "C:\\Users\\David\\Anaconda3\\envs\\python3\\lib\\site-packages\\seaborn\\categorical.py:3666: UserWarning: The `factorplot` function has been renamed to `catplot`. The original name will be removed in a future release. Please update your code. Note that the default `kind` in `factorplot` (`'point'`) has changed `'strip'` in `catplot`.\n",
      "  warnings.warn(msg)\n",
      "C:\\Users\\David\\Anaconda3\\envs\\python3\\lib\\site-packages\\scipy\\stats\\stats.py:1713: FutureWarning: Using a non-tuple sequence for multidimensional indexing is deprecated; use `arr[tuple(seq)]` instead of `arr[seq]`. In the future this will be interpreted as an array index, `arr[np.array(seq)]`, which will result either in an error or a different result.\n",
      "  return np.add.reduce(sorted[indexer] * weights, axis=axis) / sumval\n"
     ]
    },
    {
     "data": {
      "image/png": "[encoded data removed]",
      "text/plain": [
       "<Figure size 436.25x360 with 1 Axes>"
      ]
     },
     "metadata": {
      "needs_background": "light"
     },
     "output_type": "display_data"
    },
    {
     "name": "stderr",
     "output_type": "stream",
     "text": [
      "C:\\Users\\David\\Anaconda3\\envs\\python3\\lib\\site-packages\\seaborn\\categorical.py:3666: UserWarning: The `factorplot` function has been renamed to `catplot`. The original name will be removed in a future release. Please update your code. Note that the default `kind` in `factorplot` (`'point'`) has changed `'strip'` in `catplot`.\n",
      "  warnings.warn(msg)\n"
     ]
    },
    {
     "data": {
      "image/png": "[encoded data removed]",
      "text/plain": [
       "<Figure size 436.25x360 with 1 Axes>"
      ]
     },
     "metadata": {
      "needs_background": "light"
     },
     "output_type": "display_data"
    },
    {
     "name": "stderr",
     "output_type": "stream",
     "text": [
      "C:\\Users\\David\\Anaconda3\\envs\\python3\\lib\\site-packages\\seaborn\\categorical.py:3666: UserWarning: The `factorplot` function has been renamed to `catplot`. The original name will be removed in a future release. Please update your code. Note that the default `kind` in `factorplot` (`'point'`) has changed `'strip'` in `catplot`.\n",
      "  warnings.warn(msg)\n"
     ]
    },
    {
     "data": {
      "image/png": "[encoded data removed]",
      "text/plain": [
       "<Figure size 430.875x360 with 1 Axes>"
      ]
     },
     "metadata": {
      "needs_background": "light"
     },
     "output_type": "display_data"
    }
   ],
   "source": [
    "######################### Interactions ##############################\n",
    "df_5 = df_5s_vis.copy()\n",
    "df_5['material'] = df_5s_mat['material']\n",
    "df_5['naturalidad'] = df_5s_nat['naturalidad']\n",
    "df_5['subj'] = df_5s_subj['subj']\n",
    "\n",
    "sns.factorplot(x='vision', y='value', hue='naturalidad', data=df_5, kind='bar' )\n",
    "plt.title('Vision & Naturalidad')\n",
    "plt.show(block=False)\n",
    "\n",
    "sns.factorplot(x='material', y='value', hue='naturalidad', data=df_5, kind='bar' )\n",
    "plt.title('Material & Naturalidad')\n",
    "plt.show(block=False)\n",
    "\n",
    "sns.factorplot(x='material', y='value', hue='vision', data=df_5, kind='bar' )\n",
    "plt.title('Material & Vision')\n",
    "plt.show(block=False)"
   ]
  },
  {
   "cell_type": "code",
   "execution_count": 8,
   "metadata": {},
   "outputs": [],
   "source": [
    "# mod = ols(formula=\"value ~ material*vision*naturalidad\", data=df_5).fit()\n",
    "# print( mod.summary() )\n",
    "\n",
    "# mod = ols(formula=\"value ~ naturalidad*vision\", data=df_5).fit()\n",
    "# print( mod.summary() )\n",
    "\n",
    "# mod = ols(formula=\"value ~ naturalidad*material\", data=df_5).fit()\n",
    "# print( mod.summary() )\n",
    "\n",
    "# mod = ols(formula=\"value ~ material*vision\", data=df_5).fit()\n",
    "# print( mod.summary() )\n",
    "#"
   ]
  }
 ],
 "metadata": {
  "kernelspec": {
   "display_name": "Python 3",
   "language": "python",
   "name": "python3"
  },
  "language_info": {
   "codemirror_mode": {
    "name": "ipython",
    "version": 3
   },
   "file_extension": ".py",
   "mimetype": "text/x-python",
   "name": "python",
   "nbconvert_exporter": "python",
   "pygments_lexer": "ipython3",
   "version": "3.5.6"
  }
 },
 "nbformat": 4,
 "nbformat_minor": 2
}
